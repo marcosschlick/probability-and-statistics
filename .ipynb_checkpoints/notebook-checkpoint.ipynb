{
 "cells": [
  {
   "cell_type": "markdown",
   "id": "55ff53cb-36a7-4b72-a3e9-d59cf6b919fa",
   "metadata": {},
   "source": [
    "### 1. Creating a datnabase\n",
    "\n",
    "- create a database with objects containing name and age attributes"
   ]
  },
  {
   "cell_type": "code",
   "execution_count": 8,
   "id": "10ef7864-4819-4bbf-a2d1-7458cd0a67e4",
   "metadata": {},
   "outputs": [
    {
     "name": "stdout",
     "output_type": "stream",
     "text": [
      "Name: Leandro Adams, Age: 46\n",
      "Name: Jack Walker, Age: 28\n",
      "Name: Grace Wright, Age: 73\n",
      "Name: Mirta Walker, Age: 10\n",
      "Name: Frank Evans, Age: 39\n",
      "Name: Walter Wright, Age: 23\n",
      "Name: David Hill, Age: 83\n",
      "Name: Bruno Johnson, Age: 62\n",
      "Name: Mirta Young, Age: 4\n",
      "Name: Emily Carter, Age: 99\n",
      "Name: Bob Green, Age: 92\n",
      "Name: Charlie Young, Age: 28\n",
      "Name: Emily Taylor, Age: 57\n",
      "Name: Quincy Johnson, Age: 92\n",
      "Name: Marcos King, Age: 7\n",
      "Name: Jack King, Age: 9\n",
      "Name: Jack Smith, Age: 70\n",
      "Name: Frank Young, Age: 73\n",
      "Name: David Hill, Age: 30\n",
      "Name: Bruno Green, Age: 57\n",
      "Name: Quincy Brown, Age: 85\n",
      "Name: Emily Hill, Age: 57\n",
      "Name: Bruno Wright, Age: 6\n",
      "Name: Karen Lee, Age: 63\n",
      "Name: Paul Smith, Age: 54\n",
      "Name: Frank Mitchell, Age: 81\n",
      "Name: Paul Taylor, Age: 46\n",
      "Name: Paul Adams, Age: 23\n",
      "Name: Bernardo Adams, Age: 90\n",
      "Name: Emily Roberts, Age: 6\n",
      "Name: Bob King, Age: 93\n",
      "Name: Jack Brown, Age: 3\n",
      "Name: Walter Mitchell, Age: 60\n",
      "Name: Frank da Silva, Age: 55\n",
      "Name: Frank Wright, Age: 81\n",
      "Name: Bruno Evans, Age: 70\n",
      "Name: Charlie King, Age: 56\n",
      "Name: Grace Evans, Age: 74\n",
      "Name: Irineu Perez, Age: 5\n",
      "Name: William Green, Age: 85\n",
      "Name: Bernardo da Silva, Age: 81\n",
      "Name: William Mitchell, Age: 44\n",
      "Name: Grace Green, Age: 31\n",
      "Name: Frank Carter, Age: 49\n",
      "Name: Leandro Hill, Age: 64\n",
      "Name: Bernardo Carter, Age: 33\n",
      "Name: Irineu Brown, Age: 99\n",
      "Name: David Smith, Age: 24\n",
      "Name: Wagner Roberts, Age: 47\n",
      "Name: Quincy Mitchell, Age: 40\n"
     ]
    }
   ],
   "source": [
    "import random\n",
    "\n",
    "class Person:\n",
    "    def __init__(self, name, age):\n",
    "        self.name = name\n",
    "        self.age = age\n",
    "\n",
    "names = [\"Mirta\", \"Bob\", \"Charlie\", \"David\", \"Leandro\", \"Frank\", \"Grace\", \"Helen\", \"William\", \"Jack\", \n",
    "               \"Karen\", \"Emily\", \"Bruno\", \"Marcos\", \"Bernardo\", \"Paul\", \"Quincy\", \"Irineu\", \"Wagner\", \"Walter\"]\n",
    "\n",
    "surnames = [\"Smith\", \"Johnson\", \"Brown\", \"Taylor\", \"Lee\", \"Walker\", \"Harris\", \"Young\", \"King\", \"Wright\",\n",
    "            \"Adams\", \"da Silva\", \"Nelson\", \"Hill\", \"Carter\", \"Mitchell\", \"Perez\", \"Roberts\", \"Evans\", \"Green\"]\n",
    "\n",
    "db = [Person(f\"{random.choice(names)} {random.choice(surnames)}\", random.randint(1, 100)) for _ in range(50)]\n",
    "\n",
    "for person in db:\n",
    "    print(f\"Name: {person.name}, Age: {person.age}\")"
   ]
  },
  {
   "cell_type": "markdown",
   "id": "dfb42e51-f2c5-4d3e-8b6c-64ed22609f91",
   "metadata": {},
   "source": [
    "### 2. Frequency Tables\n",
    "\n",
    "- **Absolute Frequency (Fa)**:  \n",
    "  This is simply the count of each individual value in your dataset.\n",
    "  \n",
    "- **Relative Frequency (Fr)**:  \n",
    "  **Formula**:  \n",
    "  $$\n",
    "  Fr = \\frac{Fa}{n}\n",
    "  $$\n",
    "  **Where**:\n",
    "  - Fa - is the absolute frequency of a value.\n",
    "  - n - is the total number of data points."
   ]
  },
  {
   "cell_type": "code",
   "execution_count": 9,
   "id": "7d0e6669-cfe0-4815-a0e7-4d880af2219d",
   "metadata": {
    "scrolled": true
   },
   "outputs": [
    {
     "name": "stdout",
     "output_type": "stream",
     "text": [
      "Absolute Frequency: {46: 2, 28: 2, 73: 2, 10: 1, 39: 1, 23: 2, 83: 1, 62: 1, 4: 1, 99: 2, 92: 2, 57: 3, 7: 1, 9: 1, 70: 2, 30: 1, 85: 2, 6: 2, 63: 1, 54: 1, 81: 3, 90: 1, 93: 1, 3: 1, 60: 1, 55: 1, 56: 1, 74: 1, 5: 1, 44: 1, 31: 1, 49: 1, 64: 1, 33: 1, 24: 1, 47: 1, 40: 1}\n",
      "Relative Frequency: {46: 0.04, 28: 0.04, 73: 0.04, 10: 0.02, 39: 0.02, 23: 0.04, 83: 0.02, 62: 0.02, 4: 0.02, 99: 0.04, 92: 0.04, 57: 0.06, 7: 0.02, 9: 0.02, 70: 0.04, 30: 0.02, 85: 0.04, 6: 0.04, 63: 0.02, 54: 0.02, 81: 0.06, 90: 0.02, 93: 0.02, 3: 0.02, 60: 0.02, 55: 0.02, 56: 0.02, 74: 0.02, 5: 0.02, 44: 0.02, 31: 0.02, 49: 0.02, 64: 0.02, 33: 0.02, 24: 0.02, 47: 0.02, 40: 0.02}\n"
     ]
    }
   ],
   "source": [
    "data = [person.age for person in db]\n",
    "\n",
    "freq = {}\n",
    "for value in data:\n",
    "    if value in freq:\n",
    "        freq[value] += 1\n",
    "    else:\n",
    "        freq[value] = 1\n",
    "        \n",
    "n = len(data)\n",
    "\n",
    "rel_freq = {key: val / n for key, val in freq.items()}\n",
    "\n",
    "print(\"Absolute Frequency:\", freq)\n",
    "print(\"Relative Frequency:\", rel_freq)"
   ]
  },
  {
   "cell_type": "markdown",
   "id": "7cf6e9d3-0bb0-4a04-b0bd-c342e9bc3518",
   "metadata": {},
   "source": [
    "### 2. Class Intervals (Grouping)\n",
    "\n",
    "- **Class Width**:  \n",
    "  **Formula**:  \n",
    "  $$\n",
    "  \\text{class width} = \\frac{\\text{(max(data)} - \\text{min(data))}}{\\sqrt{n}}\n",
    "  $$\n",
    "  **Where**:\n",
    "  -  max(data) - is the maximum value in your dataset.\n",
    "  -  min(data) - is the minimum value in your dataset.\n",
    "  -  n - is the total number of data points."
   ]
  },
  {
   "cell_type": "code",
   "execution_count": 10,
   "id": "0358d25b-341b-44f6-95cd-7346ed76cb89",
   "metadata": {},
   "outputs": [
    {
     "name": "stdout",
     "output_type": "stream",
     "text": [
      "Class Width: ( 99 - 3 ) / 8\n",
      "Class Width without round: 12.0\n",
      "Class Width: 12\n"
     ]
    }
   ],
   "source": [
    "import math\n",
    "\n",
    "min_data = min(data)\n",
    "max_data = max(data)\n",
    "\n",
    "def rounded_sqrt(num):\n",
    "    square_root = math.sqrt(num)\n",
    "    if square_root.is_integer():\n",
    "        return int(square_root) \n",
    "    else:\n",
    "        return math.ceil(square_root)  \n",
    "\n",
    "num_classes = rounded_sqrt(n)\n",
    "\n",
    "class_width = math.ceil((max_data - min_data) / num_classes)\n",
    "print(\"Class Width:\", \"(\", max_data, \"-\", min_data, \")\", \"/\", num_classes)\n",
    "print(\"Class Width without round:\",  (max_data - min_data) / num_classes)\n",
    "print(\"Class Width:\", class_width)"
   ]
  },
  {
   "cell_type": "markdown",
   "id": "7b5fb123-14f7-412f-926e-c10904bc5bfc",
   "metadata": {},
   "source": [
    "### 2.1 Defining Class Limits"
   ]
  },
  {
   "cell_type": "code",
   "execution_count": 11,
   "id": "a9d475ec-d414-43f4-87c0-2c9ee5a81281",
   "metadata": {},
   "outputs": [
    {
     "name": "stdout",
     "output_type": "stream",
     "text": [
      "8\n",
      "12\n",
      "lower_limit: 0, upper_limit: 12, class_average: 6.0, absolute_frequency: 8\n",
      "lower_limit: 12, upper_limit: 24, class_average: 18.0, absolute_frequency: 2\n",
      "lower_limit: 24, upper_limit: 36, class_average: 30.0, absolute_frequency: 6\n",
      "lower_limit: 36, upper_limit: 48, class_average: 42.0, absolute_frequency: 6\n",
      "lower_limit: 48, upper_limit: 60, class_average: 54.0, absolute_frequency: 7\n",
      "lower_limit: 60, upper_limit: 72, class_average: 66.0, absolute_frequency: 6\n",
      "lower_limit: 72, upper_limit: 84, class_average: 78.0, absolute_frequency: 7\n",
      "lower_limit: 84, upper_limit: 96, class_average: 90.0, absolute_frequency: 6\n"
     ]
    }
   ],
   "source": [
    "class Data_Class:\n",
    "    def __init__(self, lower_limit, upper_limit):\n",
    "        self.lower_limit = lower_limit\n",
    "        self.upper_limit = upper_limit\n",
    "        self.class_average = (lower_limit + upper_limit) / 2\n",
    "        self.absolute_frequency = 0\n",
    "\n",
    "def create_data_classes(num_classes, class_width):\n",
    "    data_classes = []\n",
    "    for i in range(num_classes):\n",
    "        lower_limit = i * class_width\n",
    "        upper_limit = lower_limit + class_width\n",
    "        data_class = Data_Class(lower_limit, upper_limit)\n",
    "        data_classes.append(data_class)\n",
    "    return data_classes\n",
    "\n",
    "def increment_frequency(data_classes, data):\n",
    "    for number in data:\n",
    "        for data_class in data_classes:\n",
    "            if data_class.lower_limit <= number < data_class.upper_limit:\n",
    "                data_class.absolute_frequency += 1\n",
    "\n",
    "data_classes = create_data_classes(num_classes, class_width)\n",
    "increment_frequency(data_classes, data)\n",
    "\n",
    "print(num_classes)\n",
    "print(class_width)\n",
    "for dc in data_classes:\n",
    "    print(f\"lower_limit: {dc.lower_limit}, upper_limit: {dc.upper_limit}, class_average: {dc.class_average}, absolute_frequency: {dc.absolute_frequency}\")"
   ]
  },
  {
   "cell_type": "markdown",
   "id": "61b96a3b-8726-436d-8df1-0966c7b568fb",
   "metadata": {},
   "source": [
    "### 3. Measures of Central Tendency"
   ]
  },
  {
   "cell_type": "markdown",
   "id": "5a9542e6-6398-46c9-b059-e16c92c94de4",
   "metadata": {},
   "source": [
    "- **Mean (Arithmetic Mean)**:  \n",
    "  **Formula**:  \n",
    "  $$\n",
    "  \\text{Mean} = \\frac{x_1 + x_2 + x_3 + \\dots + x_n}{n}\n",
    "  $$\n",
    "  **Where**:\n",
    "  - x1, x2, x3 - are the individual data points.\n",
    "  - n - is the total number of data points."
   ]
  },
  {
   "cell_type": "code",
   "execution_count": 12,
   "id": "6d621406-e434-4df2-91c3-73cee7929dfb",
   "metadata": {},
   "outputs": [
    {
     "name": "stdout",
     "output_type": "stream",
     "text": [
      "Mean: 2587 / 50\n",
      "Mean: 51.74\n"
     ]
    }
   ],
   "source": [
    "mean = sum(data) / n\n",
    "print(\"Mean:\", sum(data), \"/\", n)\n",
    "print(\"Mean:\", mean)"
   ]
  },
  {
   "cell_type": "markdown",
   "id": "194fb5a5-9314-4528-a815-315be7c98324",
   "metadata": {},
   "source": [
    "- **Class Weighted Mean**:  \n",
    "  **Formula**:  \n",
    "  $$\n",
    "  \\text{Weighted Mean} = \\frac{\\sum_{i=1}^{n} x_i \\cdot p_i}{\\sum_{i=1}^{n} p_i}\n",
    "  $$\n",
    "  Where:\n",
    "  - xi - is each mean's class.\n",
    "  - pi - is the weight associated with each class."
   ]
  },
  {
   "cell_type": "code",
   "execution_count": 16,
   "id": "dbdeff97-e25b-4e32-9e10-c283405e64e9",
   "metadata": {},
   "outputs": [
    {
     "name": "stdout",
     "output_type": "stream",
     "text": [
      "Weighted Mean: 2587 / 50\n",
      "Weighted Mean: 51.74\n"
     ]
    }
   ],
   "source": [
    "weighted_mean = 0\n",
    "total_frequency = 0\n",
    "for dc in data_classes:\n",
    "    weighted_mean += dc.class_average * dc.absolute_frequency\n",
    "    total_frequency += dc.absolute_frequency\n",
    "\n",
    "weighted_mean /= total_frequency\n",
    "\n",
    "print(\"Weighted Mean:\", sum(data), \"/\", n)\n",
    "print(\"Weighted Mean:\", mean)"
   ]
  },
  {
   "cell_type": "markdown",
   "id": "054bee77-7d91-4849-bf00-e7a975ae6c1d",
   "metadata": {},
   "source": [
    "- **Median**:  \n",
    "  **For Even Count**:  \n",
    "  $$\n",
    "  \\text{Median} = \\frac{\\text{sorted data}[n/2 - 1] + \\text{sorted data}[n/2]}{2}\n",
    "  $$  \n",
    "  **For Odd Count**:  \n",
    "  $$\n",
    "  \\text{Median} = \\text{sorted data}[n//2]\n",
    "  $$\n",
    "  Where:\n",
    "  - Sorted data is the dataset arranged in ascending order.\n",
    "  - n - is the total number of data points."
   ]
  },
  {
   "cell_type": "code",
   "execution_count": null,
   "id": "15ddb77f-e549-4c9a-adce-758c148b9001",
   "metadata": {},
   "outputs": [],
   "source": [
    "sorted_data = sorted(data)\n",
    "\n",
    "print(\"Sorted Data:\", sorted_data)\n",
    "\n",
    "if n % 2 == 1: \n",
    "    median = sorted_data[n // 2]  \n",
    "else:  \n",
    "    median = (sorted_data[n // 2 - 1] + sorted_data[n / 2]) / 2\n",
    "\n",
    "print(\"Median:\", median)"
   ]
  },
  {
   "cell_type": "markdown",
   "id": "09a0c0da-ae74-4331-b127-7b0ef25bc54b",
   "metadata": {},
   "source": [
    "- **Mode**:  \n",
    "  The value that appears most frequently in the dataset."
   ]
  },
  {
   "cell_type": "code",
   "execution_count": null,
   "id": "f54a5591-ebb4-418a-a9cc-36a8c777cc93",
   "metadata": {},
   "outputs": [],
   "source": [
    "mode = max(freq, key=freq.get)\n",
    "print(\"Mode:\", mode)"
   ]
  },
  {
   "cell_type": "markdown",
   "id": "99381a31-c567-47a6-a87b-651b741965bd",
   "metadata": {},
   "source": [
    "### 5. Median for Grouped Data (Md)\n",
    "\n",
    "- **Formula**:  \n",
    "  $$\n",
    "  Md = L_{\\text{inf}} + \\frac{\\left(\\frac{n}{2} - F_{\\text{ac previous}}\\right)}{f_{\\text{i class}}} \\cdot \\text{class width}\n",
    "  $$\n",
    "\n",
    "  Where:\n",
    "  - Linf - is the lower limit of the median class.\n",
    "  - Fac previous - is the cumulative frequency up to the class before the median class.\n",
    "  - fi - the absolute frequency of the median class.\n",
    "  - class width - is the width of the class interval.\n",
    "  - n - is the total number of data points."
   ]
  },
  {
   "cell_type": "code",
   "execution_count": null,
   "id": "434a4b7e-493e-4835-919e-37c94c76bee2",
   "metadata": {},
   "outputs": [],
   "source": [
    "cumulative_frequency = 0\n",
    "median_class = None\n",
    "n_by_2 = n / 2\n",
    "    \n",
    "for data_class in data_classes:\n",
    "    cumulative_frequency += data_class.absolute_frequency\n",
    "    if cumulative_frequency >= n_by_2:\n",
    "        median_class = data_class\n",
    "        break\n",
    "    \n",
    "cumulative_frequency_previous = cumulative_frequency - median_class.absolute_frequency\n",
    "    \n",
    "Linf = median_class.lower_limit\n",
    "fi = median_class.absolute_frequency\n",
    "Fac = cumulative_frequency_previous\n",
    "class_width\n",
    "\n",
    "median = Linf + ((n_by_2 - Fac) / fi) * class_width\n",
    "\n",
    "print(\"Grouped Median:\", median)"
   ]
  },
  {
   "cell_type": "markdown",
   "id": "ef197abe-ba7f-4a6f-8a1d-ffabe8b634f6",
   "metadata": {},
   "source": [
    "### 4. Measures of Dispersion"
   ]
  },
  {
   "cell_type": "markdown",
   "id": "ae33cd1b-e0bd-4f93-b500-f5a7f5cd644c",
   "metadata": {},
   "source": [
    "- **Variance (s²)**:  \n",
    "  **Formula**:  \n",
    "  $$\n",
    "  \\text{Variance} = \\frac{\\sum_{i=1}^{n} f_i \\cdot (x_i - \\text{mean})^2}{n}\n",
    "  $$\n",
    "  Where:\n",
    "  - fi - is the frequency of the data point.\n",
    "  - xi - is the data point.\n",
    "  - mean - is the mean of the dataset.\n",
    "  - n - is the total number of data points.\n",
    "- **Standard Deviation (s)**:  \n",
    "  **Formula**:  \n",
    "  $$\n",
    "  \\text{Standard Deviation} = \\sqrt{\\text{Variance}}\n",
    "  $$\n",
    "  It is simply the square root of the variance."
   ]
  },
  {
   "cell_type": "code",
   "execution_count": null,
   "id": "27378b7c-c9c2-4617-9831-4b064c29fd18",
   "metadata": {},
   "outputs": [],
   "source": [
    "variance = sum((x - mean) ** 2 for x in data) / n\n",
    "std_dev = math.sqrt(variance) \n",
    "\n",
    "print(\"Variance:\", variance)\n",
    "print(\"Standard Deviation:\", std_dev)"
   ]
  },
  {
   "cell_type": "markdown",
   "id": "fa322455-77b0-4c1f-b495-d20613d07c19",
   "metadata": {},
   "source": [
    "- **Coefficient of Variation (CV)**:  \n",
    "  **Formula**:  \n",
    "  $$\n",
    "  CV = \\frac{\\text{Standard Deviation}}{\\text{Mean}} \\times 100\n",
    "  $$\n",
    "  This measures the relative dispersion in percentage terms."
   ]
  },
  {
   "cell_type": "code",
   "execution_count": null,
   "id": "4b5ab28c-d807-493e-9d54-9130d05ef10f",
   "metadata": {},
   "outputs": [],
   "source": [
    "cv = (std_dev / mean) * 100\n",
    "print(\"Coefficient of Variation:\", cv)"
   ]
  }
 ],
 "metadata": {
  "kernelspec": {
   "display_name": "Python 3 (ipykernel)",
   "language": "python",
   "name": "python3"
  },
  "language_info": {
   "codemirror_mode": {
    "name": "ipython",
    "version": 3
   },
   "file_extension": ".py",
   "mimetype": "text/x-python",
   "name": "python",
   "nbconvert_exporter": "python",
   "pygments_lexer": "ipython3",
   "version": "3.12.6"
  }
 },
 "nbformat": 4,
 "nbformat_minor": 5
}
