{
 "cells": [
  {
   "cell_type": "markdown",
   "id": "55ff53cb-36a7-4b72-a3e9-d59cf6b919fa",
   "metadata": {
    "id": "55ff53cb-36a7-4b72-a3e9-d59cf6b919fa"
   },
   "source": [
    "### 1. Creating a datnabase\n",
    "\n",
    "- create a database with objects containing name and age attributes"
   ]
  },
  {
   "cell_type": "code",
   "execution_count": 2,
   "id": "10ef7864-4819-4bbf-a2d1-7458cd0a67e4",
   "metadata": {
    "id": "10ef7864-4819-4bbf-a2d1-7458cd0a67e4"
   },
   "outputs": [
    {
     "name": "stdout",
     "output_type": "stream",
     "text": [
      "Name: Walter Smith, Age: 82\n",
      "Name: Jack Nelson, Age: 37\n",
      "Name: Quincy Adams, Age: 80\n",
      "Name: Charlie Johnson, Age: 75\n",
      "Name: Marcos Adams, Age: 86\n",
      "Name: Karen Nelson, Age: 70\n",
      "Name: William Wright, Age: 46\n",
      "Name: Frank Wright, Age: 95\n",
      "Name: Bernardo Walker, Age: 45\n",
      "Name: Bruno Nelson, Age: 92\n",
      "Name: Grace Wright, Age: 15\n",
      "Name: Charlie Perez, Age: 61\n",
      "Name: Mirta Taylor, Age: 36\n",
      "Name: Paul Adams, Age: 91\n",
      "Name: Mirta Hill, Age: 99\n",
      "Name: Quincy Walker, Age: 25\n",
      "Name: Paul Green, Age: 81\n",
      "Name: William Johnson, Age: 94\n",
      "Name: Charlie Green, Age: 41\n",
      "Name: Mirta Harris, Age: 73\n",
      "Name: Mirta Nelson, Age: 10\n",
      "Name: Leandro da Silva, Age: 12\n",
      "Name: Paul Harris, Age: 40\n",
      "Name: Leandro Mitchell, Age: 27\n",
      "Name: Irineu Young, Age: 64\n",
      "Name: Helen Carter, Age: 86\n",
      "Name: Jack King, Age: 4\n",
      "Name: Mirta Carter, Age: 80\n",
      "Name: Bob Taylor, Age: 25\n",
      "Name: Charlie Taylor, Age: 57\n",
      "Name: Leandro King, Age: 75\n",
      "Name: Paul Brown, Age: 95\n",
      "Name: Walter Smith, Age: 99\n",
      "Name: Quincy Wright, Age: 76\n",
      "Name: Frank Young, Age: 42\n",
      "Name: Mirta Carter, Age: 65\n",
      "Name: Walter Roberts, Age: 30\n",
      "Name: Grace Carter, Age: 46\n",
      "Name: Leandro Young, Age: 95\n",
      "Name: Leandro Green, Age: 17\n",
      "Name: Walter Adams, Age: 28\n",
      "Name: Emily da Silva, Age: 73\n",
      "Name: Emily Green, Age: 7\n",
      "Name: Leandro Perez, Age: 26\n",
      "Name: Emily Mitchell, Age: 93\n",
      "Name: Jack Mitchell, Age: 51\n",
      "Name: Marcos Wright, Age: 81\n",
      "Name: Bernardo Lee, Age: 77\n",
      "Name: Charlie Johnson, Age: 28\n",
      "Name: Charlie Lee, Age: 35\n"
     ]
    }
   ],
   "source": [
    "import random\n",
    "\n",
    "class Person:\n",
    "    def __init__(self, name, age):\n",
    "        self.name = name\n",
    "        self.age = age\n",
    "\n",
    "names = [\"Mirta\", \"Bob\", \"Charlie\", \"David\", \"Leandro\", \"Frank\", \"Grace\", \"Helen\", \"William\", \"Jack\",\n",
    "               \"Karen\", \"Emily\", \"Bruno\", \"Marcos\", \"Bernardo\", \"Paul\", \"Quincy\", \"Irineu\", \"Wagner\", \"Walter\"]\n",
    "\n",
    "surnames = [\"Smith\", \"Johnson\", \"Brown\", \"Taylor\", \"Lee\", \"Walker\", \"Harris\", \"Young\", \"King\", \"Wright\",\n",
    "            \"Adams\", \"da Silva\", \"Nelson\", \"Hill\", \"Carter\", \"Mitchell\", \"Perez\", \"Roberts\", \"Evans\", \"Green\"]\n",
    "\n",
    "db = [Person(f\"{random.choice(names)} {random.choice(surnames)}\", random.randint(1, 100)) for _ in range(50)]\n",
    "\n",
    "for person in db:\n",
    "    print(f\"Name: {person.name}, Age: {person.age}\")"
   ]
  },
  {
   "cell_type": "markdown",
   "id": "dfb42e51-f2c5-4d3e-8b6c-64ed22609f91",
   "metadata": {
    "id": "dfb42e51-f2c5-4d3e-8b6c-64ed22609f91"
   },
   "source": [
    "### 2. Frequency Tables\n",
    "\n",
    "- **Absolute Frequency (Fa)**:  \n",
    "  This is simply the count of each individual value in your dataset.\n",
    "  \n",
    "- **Relative Frequency (Fr)**:  \n",
    "  **Formula**:  \n",
    "  $$\n",
    "  Fr = \\frac{Fa}{n}\n",
    "  $$\n",
    "  **Where**:\n",
    "  - Fa - is the absolute frequency of a value.\n",
    "  - n - is the total number of data points."
   ]
  },
  {
   "cell_type": "code",
   "execution_count": 9,
   "id": "7d0e6669-cfe0-4815-a0e7-4d880af2219d",
   "metadata": {
    "id": "7d0e6669-cfe0-4815-a0e7-4d880af2219d",
    "scrolled": true
   },
   "outputs": [
    {
     "name": "stdout",
     "output_type": "stream",
     "text": [
      "Absolute Frequency: {82: 1, 37: 1, 80: 2, 75: 2, 86: 2, 70: 1, 46: 2, 95: 3, 45: 1, 92: 1, 15: 1, 61: 1, 36: 1, 91: 1, 99: 2, 25: 2, 81: 2, 94: 1, 41: 1, 73: 2, 10: 1, 12: 1, 40: 1, 27: 1, 64: 1, 4: 1, 57: 1, 76: 1, 42: 1, 65: 1, 30: 1, 17: 1, 28: 2, 7: 1, 26: 1, 93: 1, 51: 1, 77: 1, 35: 1}\n",
      "Relative Frequency: {82: 0.02, 37: 0.02, 80: 0.04, 75: 0.04, 86: 0.04, 70: 0.02, 46: 0.04, 95: 0.06, 45: 0.02, 92: 0.02, 15: 0.02, 61: 0.02, 36: 0.02, 91: 0.02, 99: 0.04, 25: 0.04, 81: 0.04, 94: 0.02, 41: 0.02, 73: 0.04, 10: 0.02, 12: 0.02, 40: 0.02, 27: 0.02, 64: 0.02, 4: 0.02, 57: 0.02, 76: 0.02, 42: 0.02, 65: 0.02, 30: 0.02, 17: 0.02, 28: 0.04, 7: 0.02, 26: 0.02, 93: 0.02, 51: 0.02, 77: 0.02, 35: 0.02}\n"
     ]
    }
   ],
   "source": [
    "data = [person.age for person in db]\n",
    "\n",
    "freq = {}\n",
    "for value in data:\n",
    "    if value in freq:\n",
    "        freq[value] += 1\n",
    "    else:\n",
    "        freq[value] = 1\n",
    "\n",
    "n = len(data)\n",
    "\n",
    "rel_freq = {key: val / n for key, val in freq.items()}\n",
    "\n",
    "print(\"Absolute Frequency:\", freq)\n",
    "print(\"Relative Frequency:\", rel_freq)"
   ]
  },
  {
   "cell_type": "markdown",
   "id": "7cf6e9d3-0bb0-4a04-b0bd-c342e9bc3518",
   "metadata": {
    "id": "7cf6e9d3-0bb0-4a04-b0bd-c342e9bc3518"
   },
   "source": [
    "### 2. Class Intervals (Grouping)\n",
    "\n",
    "- **Class Width**:  \n",
    "  **Formula**:  \n",
    "  $$\n",
    "  \\text{class width} = \\frac{\\text{(max(data)} - \\text{min(data))}}{\\sqrt{n}}\n",
    "  $$\n",
    "  **Where**:\n",
    "  -  max(data) - is the maximum value in your dataset.\n",
    "  -  min(data) - is the minimum value in your dataset.\n",
    "  -  n - is the total number of data points."
   ]
  },
  {
   "cell_type": "code",
   "execution_count": 4,
   "id": "0358d25b-341b-44f6-95cd-7346ed76cb89",
   "metadata": {
    "id": "0358d25b-341b-44f6-95cd-7346ed76cb89"
   },
   "outputs": [
    {
     "name": "stdout",
     "output_type": "stream",
     "text": [
      "Number of class without round: 7.0710678118654755\n",
      "Number of class rounded: 8\n",
      "Class Width: ( 99 - 4 ) / 8\n",
      "Class Width without round: 11.875\n",
      "Class Width: 12\n"
     ]
    }
   ],
   "source": [
    "import math\n",
    "\n",
    "min_data = min(data)\n",
    "max_data = max(data)\n",
    "\n",
    "def rounded_sqrt(num):\n",
    "    square_root = math.sqrt(num)\n",
    "    if square_root.is_integer():\n",
    "        return int(square_root)\n",
    "    else:\n",
    "        return math.ceil(square_root)\n",
    "\n",
    "num_classes = rounded_sqrt(n)\n",
    "print(\"Number of class without round:\", math.sqrt(n))\n",
    "print(\"Number of class rounded:\", num_classes)\n",
    "\n",
    "class_width = math.ceil((max_data - min_data) / num_classes)\n",
    "print(\"Class Width:\", \"(\", max_data, \"-\", min_data, \")\", \"/\", num_classes)\n",
    "print(\"Class Width without round:\",  (max_data - min_data) / num_classes)\n",
    "print(\"Class Width:\", class_width)"
   ]
  },
  {
   "cell_type": "markdown",
   "id": "7b5fb123-14f7-412f-926e-c10904bc5bfc",
   "metadata": {
    "id": "7b5fb123-14f7-412f-926e-c10904bc5bfc"
   },
   "source": [
    "### 2.1 Defining Class Limits"
   ]
  },
  {
   "cell_type": "code",
   "execution_count": 11,
   "id": "a9d475ec-d414-43f4-87c0-2c9ee5a81281",
   "metadata": {
    "id": "a9d475ec-d414-43f4-87c0-2c9ee5a81281"
   },
   "outputs": [
    {
     "name": "stdout",
     "output_type": "stream",
     "text": [
      "8\n",
      "12\n",
      "lower_limit: 4, upper_limit: 16, class_average: 10.0, absolute_frequency: 5\n",
      "lower_limit: 16, upper_limit: 28, class_average: 22.0, absolute_frequency: 5\n",
      "lower_limit: 28, upper_limit: 40, class_average: 34.0, absolute_frequency: 6\n",
      "lower_limit: 40, upper_limit: 52, class_average: 46.0, absolute_frequency: 7\n",
      "lower_limit: 52, upper_limit: 64, class_average: 58.0, absolute_frequency: 2\n",
      "lower_limit: 64, upper_limit: 76, class_average: 70.0, absolute_frequency: 7\n",
      "lower_limit: 76, upper_limit: 88, class_average: 82.0, absolute_frequency: 9\n",
      "lower_limit: 88, upper_limit: 100, class_average: 94.0, absolute_frequency: 9\n"
     ]
    }
   ],
   "source": [
    "class Data_Class:\n",
    "    def __init__(self, lower_limit, upper_limit):\n",
    "        self.lower_limit = lower_limit\n",
    "        self.upper_limit = upper_limit\n",
    "        self.class_average = (lower_limit + upper_limit) / 2\n",
    "        self.absolute_frequency = 0\n",
    "\n",
    "def create_data_classes(num_classes, class_width):\n",
    "    data_classes = []\n",
    "    for i in range(num_classes):\n",
    "        if (i == 0):\n",
    "            lower_limit = min_data\n",
    "        else:\n",
    "            lower_limit += class_width\n",
    "        upper_limit = lower_limit + class_width\n",
    "        data_class = Data_Class(lower_limit, upper_limit)\n",
    "        data_classes.append(data_class)\n",
    "    return data_classes\n",
    "\n",
    "def increment_frequency(data_classes, data):\n",
    "    for number in data:\n",
    "        for data_class in data_classes:\n",
    "            if data_class.lower_limit <= number < data_class.upper_limit:\n",
    "                data_class.absolute_frequency += 1\n",
    "\n",
    "data_classes = create_data_classes(num_classes, class_width)\n",
    "increment_frequency(data_classes, data)\n",
    "\n",
    "print(num_classes)\n",
    "print(class_width)\n",
    "for dc in data_classes:\n",
    "    print(f\"lower_limit: {dc.lower_limit}, upper_limit: {dc.upper_limit}, class_average: {dc.class_average}, absolute_frequency: {dc.absolute_frequency}\")"
   ]
  },
  {
   "cell_type": "markdown",
   "id": "61b96a3b-8726-436d-8df1-0966c7b568fb",
   "metadata": {
    "id": "61b96a3b-8726-436d-8df1-0966c7b568fb"
   },
   "source": [
    "### 3. Measures of Central Tendency"
   ]
  },
  {
   "cell_type": "markdown",
   "id": "5a9542e6-6398-46c9-b059-e16c92c94de4",
   "metadata": {
    "id": "5a9542e6-6398-46c9-b059-e16c92c94de4"
   },
   "source": [
    "- **Mean (Arithmetic Mean)**:  \n",
    "  **Formula**:  \n",
    "  $$\n",
    "  \\text{Mean} = \\frac{x_1 + x_2 + x_3 + \\dots + x_n}{n}\n",
    "  $$\n",
    "  **Where**:\n",
    "  - x1, x2, x3 - are the individual data points.\n",
    "  - n - is the total number of data points."
   ]
  },
  {
   "cell_type": "code",
   "execution_count": null,
   "id": "6d621406-e434-4df2-91c3-73cee7929dfb",
   "metadata": {
    "id": "6d621406-e434-4df2-91c3-73cee7929dfb"
   },
   "outputs": [],
   "source": [
    "mean = sum(data) / n\n",
    "print(\"Mean:\", sum(data), \"/\", n)\n",
    "print(\"Mean:\", mean)"
   ]
  },
  {
   "cell_type": "markdown",
   "id": "194fb5a5-9314-4528-a815-315be7c98324",
   "metadata": {
    "id": "194fb5a5-9314-4528-a815-315be7c98324"
   },
   "source": [
    "- **Class Weighted Mean**:  \n",
    "  **Formula**:  \n",
    "  $$\n",
    "  \\text{Weighted Mean} = \\frac{\\sum_{i=1}^{n} x_i \\cdot p_i}{\\sum_{i=1}^{n} p_i}\n",
    "  $$\n",
    "  Where:\n",
    "  - xi - is each mean's class.\n",
    "  - pi - is the weight associated with each class."
   ]
  },
  {
   "cell_type": "code",
   "execution_count": null,
   "id": "dbdeff97-e25b-4e32-9e10-c283405e64e9",
   "metadata": {
    "id": "dbdeff97-e25b-4e32-9e10-c283405e64e9"
   },
   "outputs": [],
   "source": [
    "weighted_mean = 0\n",
    "total_frequency = 0\n",
    "for dc in data_classes:\n",
    "    weighted_mean += dc.class_average * dc.absolute_frequency\n",
    "    total_frequency += dc.absolute_frequency\n",
    "\n",
    "weighted_mean /= total_frequency\n",
    "\n",
    "print(\"Weighted Mean:\", sum(data), \"/\", n)\n",
    "print(\"Weighted Mean:\", mean)"
   ]
  },
  {
   "cell_type": "markdown",
   "id": "054bee77-7d91-4849-bf00-e7a975ae6c1d",
   "metadata": {
    "id": "054bee77-7d91-4849-bf00-e7a975ae6c1d"
   },
   "source": [
    "- **Median**:  \n",
    "  **For Even Count**:  \n",
    "  $$\n",
    "  \\text{Median} = \\frac{\\text{sorted data}[(n / 2) + 1] + \\text{sorted data}[n / 2]}{2}\n",
    "  $$  \n",
    "  **For Odd Count**:  \n",
    "  $$\n",
    "  \\text{Median} = \\text{sorted data}[n / 2]\n",
    "  $$\n",
    "  Where:\n",
    "  - Sorted data is the dataset arranged in ascending order.\n",
    "  - n - is the total number of data points."
   ]
  },
  {
   "cell_type": "code",
   "execution_count": null,
   "id": "15ddb77f-e549-4c9a-adce-758c148b9001",
   "metadata": {
    "id": "15ddb77f-e549-4c9a-adce-758c148b9001"
   },
   "outputs": [],
   "source": [
    "sorted_data = sorted(data)\n",
    "\n",
    "print(\"Sorted Data:\", sorted_data)\n",
    "\n",
    "if n % 2 == 1:\n",
    "    median = sorted_data[n // 2]\n",
    "else:\n",
    "    median = (sorted_data[n // 2 - 1] + sorted_data[n // 2]) / 2\n",
    "    print(sorted_data[n // 2 - 1] ,\" + \",sorted_data[n // 2])\n",
    "\n",
    "\n",
    "print(\"Median:\", median)"
   ]
  },
  {
   "cell_type": "markdown",
   "id": "09a0c0da-ae74-4331-b127-7b0ef25bc54b",
   "metadata": {
    "id": "09a0c0da-ae74-4331-b127-7b0ef25bc54b"
   },
   "source": [
    "- **Mode**:  \n",
    "  The value that appears most frequently in the dataset."
   ]
  },
  {
   "cell_type": "code",
   "execution_count": null,
   "id": "f54a5591-ebb4-418a-a9cc-36a8c777cc93",
   "metadata": {
    "id": "f54a5591-ebb4-418a-a9cc-36a8c777cc93"
   },
   "outputs": [],
   "source": [
    "mode = max(freq, key=freq.get)\n",
    "print(\"Mode:\", mode)"
   ]
  },
  {
   "cell_type": "markdown",
   "id": "99381a31-c567-47a6-a87b-651b741965bd",
   "metadata": {
    "id": "99381a31-c567-47a6-a87b-651b741965bd"
   },
   "source": [
    "### 5. Median for Grouped Data (Md)\n",
    "\n",
    "- **Formula**:  \n",
    "  $$\n",
    "  Md = L_{\\text{inf}} + \\frac{\\left(\\frac{n}{2} - F_{\\text{ac previous}}\\right)}{f_{\\text{i class}}} \\cdot \\text{class width}\n",
    "  $$\n",
    "\n",
    "  Where:\n",
    "  - Linf - is the lower limit of the median class.\n",
    "  - Fac previous - is the cumulative frequency up to the class before the median class.\n",
    "  - fi - the absolute frequency of the median class.\n",
    "  - class width - is the width of the class interval.\n",
    "  - n - is the total number of data points."
   ]
  },
  {
   "cell_type": "code",
   "execution_count": null,
   "id": "434a4b7e-493e-4835-919e-37c94c76bee2",
   "metadata": {
    "id": "434a4b7e-493e-4835-919e-37c94c76bee2",
    "scrolled": true
   },
   "outputs": [],
   "source": [
    "cumulative_frequency = 0\n",
    "median_class = None\n",
    "n_by_2 = n / 2\n",
    "\n",
    "for data_class in data_classes:\n",
    "    cumulative_frequency += data_class.absolute_frequency\n",
    "    if cumulative_frequency >= n_by_2:\n",
    "        median_class = data_class\n",
    "        break\n",
    "\n",
    "cumulative_frequency_previous = cumulative_frequency - median_class.absolute_frequency\n",
    "\n",
    "Linf = median_class.lower_limit\n",
    "fi = median_class.absolute_frequency\n",
    "Fac = cumulative_frequency_previous\n",
    "class_width\n",
    "\n",
    "median = Linf + ((n_by_2 - Fac) / fi) * class_width\n",
    "\n",
    "print(\"Grouped Median:\", median)"
   ]
  },
  {
   "cell_type": "markdown",
   "id": "ef197abe-ba7f-4a6f-8a1d-ffabe8b634f6",
   "metadata": {
    "id": "ef197abe-ba7f-4a6f-8a1d-ffabe8b634f6"
   },
   "source": [
    "### 4. Measures of Dispersion"
   ]
  },
  {
   "cell_type": "markdown",
   "id": "ae33cd1b-e0bd-4f93-b500-f5a7f5cd644c",
   "metadata": {
    "id": "ae33cd1b-e0bd-4f93-b500-f5a7f5cd644c"
   },
   "source": [
    "- **Variance (s²)**:  \n",
    "  **Formula**:  \n",
    "  $$\n",
    "  \\text{Variance} = \\frac{\\sum_{i=1}^{n} f_i \\cdot (x_i - \\text{mean})^2}{n}\n",
    "  $$\n",
    "  Where:\n",
    "  - fi - is the frequency of the data point.\n",
    "  - xi - is the data point.\n",
    "  - mean - is the mean of the dataset.\n",
    "  - n - is the total number of data points.\n",
    "- **Standard Deviation (s)**:  \n",
    "  **Formula**:  \n",
    "  $$\n",
    "  \\text{Standard Deviation} = \\sqrt{\\text{Variance}}\n",
    "  $$\n",
    "  It is simply the square root of the variance."
   ]
  },
  {
   "cell_type": "code",
   "execution_count": null,
   "id": "27378b7c-c9c2-4617-9831-4b064c29fd18",
   "metadata": {
    "id": "27378b7c-c9c2-4617-9831-4b064c29fd18"
   },
   "outputs": [],
   "source": [
    "variance = sum((x - mean) ** 2 for x in data) / n\n",
    "std_dev = math.sqrt(variance)\n",
    "\n",
    "print(\"Variance:\", variance)\n",
    "print(\"Standard Deviation:\", std_dev)"
   ]
  },
  {
   "cell_type": "markdown",
   "id": "fa322455-77b0-4c1f-b495-d20613d07c19",
   "metadata": {
    "id": "fa322455-77b0-4c1f-b495-d20613d07c19"
   },
   "source": [
    "- **Coefficient of Variation (CV)**:  \n",
    "  **Formula**:  \n",
    "  $$\n",
    "  CV = \\frac{\\text{Standard Deviation}}{\\text{Mean}} \\times 100\n",
    "  $$\n",
    "  This measures the relative dispersion in percentage terms."
   ]
  },
  {
   "cell_type": "code",
   "execution_count": null,
   "id": "4b5ab28c-d807-493e-9d54-9130d05ef10f",
   "metadata": {
    "id": "4b5ab28c-d807-493e-9d54-9130d05ef10f"
   },
   "outputs": [],
   "source": [
    "cv = (std_dev / mean) * 100\n",
    "print(\"Coefficient of Variation:\", cv)"
   ]
  }
 ],
 "metadata": {
  "colab": {
   "provenance": []
  },
  "kernelspec": {
   "display_name": "Python 3 (ipykernel)",
   "language": "python",
   "name": "python3"
  },
  "language_info": {
   "codemirror_mode": {
    "name": "ipython",
    "version": 3
   },
   "file_extension": ".py",
   "mimetype": "text/x-python",
   "name": "python",
   "nbconvert_exporter": "python",
   "pygments_lexer": "ipython3",
   "version": "3.12.6"
  }
 },
 "nbformat": 4,
 "nbformat_minor": 5
}
