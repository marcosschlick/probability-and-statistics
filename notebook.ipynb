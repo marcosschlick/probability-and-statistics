{
 "cells": [
  {
   "cell_type": "markdown",
   "id": "55ff53cb-36a7-4b72-a3e9-d59cf6b919fa",
   "metadata": {},
   "source": [
    "### 1. Creating a database\n",
    "\n",
    "- create a database with objects containing name and age attributes"
   ]
  },
  {
   "cell_type": "code",
   "execution_count": null,
   "id": "10ef7864-4819-4bbf-a2d1-7458cd0a67e4",
   "metadata": {},
   "outputs": [],
   "source": [
    "import random\n",
    "\n",
    "class Person:\n",
    "    def __init__(self, name, age):\n",
    "        self.name = name\n",
    "        self.age = age\n",
    "\n",
    "names = [\"Mirta\", \"Bob\", \"Charlie\", \"David\", \"Leandro\", \"Frank\", \"Grace\", \"Helen\", \"William\", \"Jack\", \n",
    "               \"Karen\", \"Emily\", \"Bruno\", \"Marcos\", \"Bernardo\", \"Paul\", \"Quincy\", \"Irineu\", \"Wagner\", \"Walter\"]\n",
    "\n",
    "surnames = [\"Smith\", \"Johnson\", \"Brown\", \"Taylor\", \"Lee\", \"Walker\", \"Harris\", \"Young\", \"King\", \"Wright\",\n",
    "            \"Adams\", \"da Silva\", \"Nelson\", \"Hill\", \"Carter\", \"Mitchell\", \"Perez\", \"Roberts\", \"Evans\", \"Green\"]\n",
    "\n",
    "db = [Person(f\"{random.choice(names)} {random.choice(surnames)}\", random.randint(1, 100)) for _ in range(50)]\n",
    "\n",
    "for person in db:\n",
    "    print(f\"Name: {person.name}, Age: {person.age}\")"
   ]
  },
  {
   "cell_type": "markdown",
   "id": "dfb42e51-f2c5-4d3e-8b6c-64ed22609f91",
   "metadata": {},
   "source": [
    "### 2. Frequency Tables\n",
    "\n",
    "- **Absolute Frequency (Fa)**:  \n",
    "  This is simply the count of each individual value in your dataset.\n",
    "  \n",
    "- **Relative Frequency (Fr)**:  \n",
    "  **Formula**:  \n",
    "  $$\n",
    "  Fr = \\frac{Fa}{n}\n",
    "  $$\n",
    "  **Where**:\n",
    "  - Fa is the absolute frequency of a value.\n",
    "  - n is the total number of data points."
   ]
  },
  {
   "cell_type": "code",
   "execution_count": null,
   "id": "7d0e6669-cfe0-4815-a0e7-4d880af2219d",
   "metadata": {
    "scrolled": true
   },
   "outputs": [],
   "source": [
    "data = [person.age for person in db]\n",
    "\n",
    "freq = {}\n",
    "for value in data:\n",
    "    if value in freq:\n",
    "        freq[value] += 1\n",
    "    else:\n",
    "        freq[value] = 1\n",
    "        \n",
    "n = len(data)\n",
    "\n",
    "rel_freq = {key: val / n for key, val in freq.items()}\n",
    "\n",
    "print(\"Absolute Frequency:\", freq)\n",
    "print(\"Relative Frequency:\", rel_freq)"
   ]
  },
  {
   "cell_type": "markdown",
   "id": "7cf6e9d3-0bb0-4a04-b0bd-c342e9bc3518",
   "metadata": {},
   "source": [
    "### 2. Class Intervals (Grouping)\n",
    "\n",
    "- **Class Width**:  \n",
    "  **Formula**:  \n",
    "  $$\n",
    "  \\text{class width} = \\frac{\\text{(max(data)} - \\text{min(data))}}{\\sqrt{n}}\n",
    "  $$\n",
    "  **Where**:\n",
    "  -  (max(data)) is the maximum value in your dataset.\n",
    "  -  (min(data)) is the minimum value in your dataset.\n",
    "  -  (n) is the total number of data points."
   ]
  },
  {
   "cell_type": "code",
   "execution_count": null,
   "id": "0358d25b-341b-44f6-95cd-7346ed76cb89",
   "metadata": {},
   "outputs": [],
   "source": [
    "import math\n",
    "\n",
    "min_data = min(data)\n",
    "max_data = max(data)\n",
    "\n",
    "def rounded_sqrt(num):\n",
    "    square_root = math.sqrt(num)\n",
    "    if square_root.is_integer():\n",
    "        return int(square_root) \n",
    "    else:\n",
    "        return math.ceil(square_root)  \n",
    "\n",
    "root = rounded_sqrt(n)\n",
    "\n",
    "class_width = (max_data - min_data) / root\n",
    "print(\"Class Width:\", \"(\", max_data, \"-\", min_data, \")\", \"/\", root)\n",
    "print(\"Class Width:\", class_width)"
   ]
  },
  {
   "cell_type": "markdown",
   "id": "61b96a3b-8726-436d-8df1-0966c7b568fb",
   "metadata": {},
   "source": [
    "### 3. Measures of Central Tendency"
   ]
  },
  {
   "cell_type": "markdown",
   "id": "5a9542e6-6398-46c9-b059-e16c92c94de4",
   "metadata": {},
   "source": [
    "- **Mean (Arithmetic Mean)**:  \n",
    "  **Formula**:  \n",
    "  $$\n",
    "  \\text{Mean} = \\frac{x_1 + x_2 + x_3 + \\dots + x_n}{n}\n",
    "  $$\n",
    "  **Where**:\n",
    "  - (x1, x2, x3) are the individual data points.\n",
    "  - (n) is the total number of data points."
   ]
  },
  {
   "cell_type": "code",
   "execution_count": null,
   "id": "6d621406-e434-4df2-91c3-73cee7929dfb",
   "metadata": {},
   "outputs": [],
   "source": [
    "mean = sum(data) / n\n",
    "print(\"Mean:\", sum(data), \"/\", n)\n",
    "print(\"Mean:\", mean)"
   ]
  },
  {
   "cell_type": "markdown",
   "id": "194fb5a5-9314-4528-a815-315be7c98324",
   "metadata": {},
   "source": [
    "- **Weighted Mean**:  \n",
    "  **Formula**:  \n",
    "  $$\n",
    "  \\text{Weighted Mean} = \\frac{\\sum_{i=1}^{n} x_i \\cdot p_i}{\\sum_{i=1}^{n} p_i}\n",
    "  $$\n",
    "  Where:\n",
    "  - \\( x_i \\) is each data point.\n",
    "  - \\( p_i \\) is the weight associated with each data point."
   ]
  },
  {
   "cell_type": "code",
   "execution_count": null,
   "id": "dbdeff97-e25b-4e32-9e10-c283405e64e9",
   "metadata": {},
   "outputs": [],
   "source": [
    "# Weighted mean calculation (manual)\n",
    "weighted_sum = sum(x * w for x, w in zip(data, weights))\n",
    "weight_sum = sum(weights)\n",
    "weighted_mean = weighted_sum / weight_sum\n",
    "print(\"Weighted Mean:\", weighted_mean)\n"
   ]
  },
  {
   "cell_type": "markdown",
   "id": "054bee77-7d91-4849-bf00-e7a975ae6c1d",
   "metadata": {},
   "source": [
    "- **Median**:  \n",
    "  **For Even Count**:  \n",
    "  $$\n",
    "  \\text{Median} = \\frac{\\text{sorted data}[n//2 - 1] + \\text{sorted data}[n//2]}{2}\n",
    "  $$  \n",
    "  **For Odd Count**:  \n",
    "  $$\n",
    "  \\text{Median} = \\text{sorted data}[n//2]\n",
    "  $$\n",
    "  Where:\n",
    "  - Sorted data is the dataset arranged in ascending order.\n",
    "  - \\( n \\) is the total number of data points."
   ]
  },
  {
   "cell_type": "code",
   "execution_count": null,
   "id": "15ddb77f-e549-4c9a-adce-758c148b9001",
   "metadata": {},
   "outputs": [],
   "source": [
    "# Median calculation (manual)\n",
    "sorted_data = sorted(data)\n",
    "\n",
    "if n % 2 == 1:\n",
    "    median = sorted_data[n // 2]\n",
    "else:\n",
    "    median = (sorted_data[n // 2 - 1] + sorted_data[n // 2]) / 2\n",
    "\n",
    "print(\"Median:\", median)\n"
   ]
  },
  {
   "cell_type": "markdown",
   "id": "09a0c0da-ae74-4331-b127-7b0ef25bc54b",
   "metadata": {},
   "source": [
    "- **Mode**:  \n",
    "  The value that appears most frequently in the dataset."
   ]
  },
  {
   "cell_type": "code",
   "execution_count": null,
   "id": "f54a5591-ebb4-418a-a9cc-36a8c777cc93",
   "metadata": {},
   "outputs": [],
   "source": [
    "# Mode calculation (manual)\n",
    "mode = max(freq, key=freq.get)\n",
    "print(\"Mode:\", mode)"
   ]
  },
  {
   "cell_type": "markdown",
   "id": "99381a31-c567-47a6-a87b-651b741965bd",
   "metadata": {},
   "source": [
    "### 5. Median for Grouped Data (Md)\n",
    "\n",
    "- **Formula**:  \n",
    "  $$\n",
    "  Md = L_{\\text{inf}} + \\left(\\frac{\\frac{n}{2} - F_{\\text{ac previous}}}{f_{\\text{i class}}}\\right) \\cdot \\text{class width}\n",
    "  $$\n",
    "  Where:\n",
    "  - \\( L_{\\text{inf}} \\) is the lower limit of the median class.\n",
    "  - \\( F_{\\text{ac previous}} \\) is the cumulative frequency up to the class before the median class.\n",
    "  - \\( f_{\\text{i class}} \\) is the absolute frequency of the median class.\n",
    "  - \\( \\text{class width} \\) is the width of the class interval.\n",
    "  - \\( n \\) is the total number of data points."
   ]
  },
  {
   "cell_type": "code",
   "execution_count": null,
   "id": "434a4b7e-493e-4835-919e-37c94c76bee2",
   "metadata": {},
   "outputs": [],
   "source": [
    "# 5. Median for Grouped Data (Md)\n",
    "\n",
    "# Grouped data (class intervals and frequencies)\n",
    "class_intervals = [(min_data + i * class_width, min_data + (i + 1) * class_width) for i in range(int((max_data - min_data) / class_width))]\n",
    "frequencies = [sum(1 for age in data if interval[0] <= age < interval[1]) for interval in class_intervals]\n",
    "\n",
    "# Calculate cumulative frequencies (manual calculation)\n",
    "cumulative_freq = []\n",
    "cumulative_sum = 0\n",
    "for f in frequencies:\n",
    "    cumulative_sum += f\n",
    "    cumulative_freq.append(cumulative_sum)\n",
    "\n",
    "# Median calculation (Md for grouped data)\n",
    "n = sum(frequencies)\n",
    "median_class_index = next(i for i, freq in enumerate(cumulative_freq) if cumulative_freq[i] >= n / 2)\n",
    "\n",
    "L_inf = class_intervals[median_class_index][0]\n",
    "F_ac_previous = cumulative_freq[median_class_index - 1] if median_class_index > 0 else 0\n",
    "f_class = frequencies[median_class_index]\n",
    "class_width = class_intervals[0][1] - class_intervals[0][0]  # Assuming equal width for all classes\n",
    "\n",
    "Md = L_inf + ((n / 2 - F_ac_previous) / f_class) * class_width\n",
    "print(\"Median for Grouped Data (Md):\", Md)\n"
   ]
  },
  {
   "cell_type": "markdown",
   "id": "ef197abe-ba7f-4a6f-8a1d-ffabe8b634f6",
   "metadata": {},
   "source": [
    "### 4. Measures of Dispersion"
   ]
  },
  {
   "cell_type": "markdown",
   "id": "ae33cd1b-e0bd-4f93-b500-f5a7f5cd644c",
   "metadata": {},
   "source": [
    "- **Variance (s²)**:  \n",
    "  **Formula**:  \n",
    "  $$\n",
    "  \\text{Variance} = \\frac{\\sum_{i=1}^{n} f_i \\cdot (x_i - \\text{mean})^2}{n}\n",
    "  $$\n",
    "  Where:\n",
    "  - \\( f_i \\) is the frequency of the data point.\n",
    "  - \\( x_i \\) is the data point.\n",
    "  - \\( \\text{mean} \\) is the mean of the dataset.\n",
    "  - \\( n \\) is the total number of data points.\n",
    "\n",
    "- **Standard Deviation (s)**:  \n",
    "  **Formula**:  \n",
    "  $$\n",
    "  \\text{Standard Deviation} = \\sqrt{\\text{Variance}}\n",
    "  $$\n",
    "  It is simply the square root of the variance."
   ]
  },
  {
   "cell_type": "code",
   "execution_count": null,
   "id": "27378b7c-c9c2-4617-9831-4b064c29fd18",
   "metadata": {},
   "outputs": [],
   "source": [
    "# Variance and Standard Deviation (manual calculation)\n",
    "variance = sum((x - mean) ** 2 for x in data) / n\n",
    "std_dev = variance ** 0.5\n",
    "\n",
    "print(\"Variance:\", variance)\n",
    "print(\"Standard Deviation:\", std_dev)\n"
   ]
  },
  {
   "cell_type": "markdown",
   "id": "fa322455-77b0-4c1f-b495-d20613d07c19",
   "metadata": {},
   "source": [
    "- **Coefficient of Variation (CV)**:  \n",
    "  **Formula**:  \n",
    "  $$\n",
    "  CV = \\frac{\\text{Standard Deviation}}{\\text{Mean}} \\times 100\n",
    "  $$\n",
    "  This measures the relative dispersion in percentage terms."
   ]
  },
  {
   "cell_type": "code",
   "execution_count": null,
   "id": "4b5ab28c-d807-493e-9d54-9130d05ef10f",
   "metadata": {},
   "outputs": [],
   "source": [
    "# Coefficient of Variation (manual calculation)\n",
    "cv = (std_dev / mean) * 100\n",
    "print(\"Coefficient of Variation:\", cv)"
   ]
  }
 ],
 "metadata": {
  "kernelspec": {
   "display_name": "Python 3 (ipykernel)",
   "language": "python",
   "name": "python3"
  },
  "language_info": {
   "codemirror_mode": {
    "name": "ipython",
    "version": 3
   },
   "file_extension": ".py",
   "mimetype": "text/x-python",
   "name": "python",
   "nbconvert_exporter": "python",
   "pygments_lexer": "ipython3",
   "version": "3.12.6"
  }
 },
 "nbformat": 4,
 "nbformat_minor": 5
}
