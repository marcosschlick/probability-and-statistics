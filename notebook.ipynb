{
 "cells": [
  {
   "cell_type": "markdown",
   "id": "55ff53cb-36a7-4b72-a3e9-d59cf6b919fa",
   "metadata": {},
   "source": [
    "### 1. Creating a database\n",
    "\n",
    "- create a database with objects containing name and age attributes"
   ]
  },
  {
   "cell_type": "code",
   "execution_count": 5,
   "id": "10ef7864-4819-4bbf-a2d1-7458cd0a67e4",
   "metadata": {},
   "outputs": [
    {
     "name": "stdout",
     "output_type": "stream",
     "text": [
      "Name: Helen Carter, Age: 18\n",
      "Name: Marcos Mitchell, Age: 12\n",
      "Name: Leandro Smith, Age: 27\n",
      "Name: Charlie Walker, Age: 62\n",
      "Name: Bob da Silva, Age: 29\n",
      "Name: Mirta Walker, Age: 19\n",
      "Name: Quincy Hill, Age: 3\n",
      "Name: Bernardo Taylor, Age: 60\n",
      "Name: Irineu Nelson, Age: 25\n",
      "Name: Mirta Adams, Age: 88\n",
      "Name: Karen Carter, Age: 81\n",
      "Name: David Young, Age: 88\n",
      "Name: Charlie Nelson, Age: 43\n",
      "Name: Mirta Mitchell, Age: 31\n",
      "Name: Frank Wright, Age: 9\n",
      "Name: Marcos Evans, Age: 43\n",
      "Name: Grace Young, Age: 83\n",
      "Name: Emily Young, Age: 29\n",
      "Name: Quincy Adams, Age: 77\n",
      "Name: Marcos Nelson, Age: 20\n",
      "Name: William Lee, Age: 48\n",
      "Name: William Walker, Age: 32\n",
      "Name: William Taylor, Age: 35\n",
      "Name: Leandro Brown, Age: 50\n",
      "Name: Leandro da Silva, Age: 76\n",
      "Name: Bernardo Roberts, Age: 28\n",
      "Name: Bob Mitchell, Age: 94\n",
      "Name: Grace King, Age: 31\n",
      "Name: David Carter, Age: 92\n",
      "Name: Bruno Lee, Age: 96\n",
      "Name: Bernardo Nelson, Age: 62\n",
      "Name: Paul Evans, Age: 51\n",
      "Name: Wagner Lee, Age: 9\n",
      "Name: Paul Perez, Age: 51\n",
      "Name: Mirta Perez, Age: 26\n",
      "Name: David Carter, Age: 28\n",
      "Name: Bernardo Evans, Age: 33\n",
      "Name: Marcos da Silva, Age: 58\n",
      "Name: Leandro Hill, Age: 70\n",
      "Name: Wagner Young, Age: 41\n",
      "Name: Charlie Mitchell, Age: 26\n",
      "Name: Bob Green, Age: 44\n",
      "Name: David Smith, Age: 64\n",
      "Name: Walter da Silva, Age: 54\n",
      "Name: Karen Roberts, Age: 12\n",
      "Name: Jack Smith, Age: 25\n",
      "Name: Jack Evans, Age: 69\n",
      "Name: Bruno Adams, Age: 37\n",
      "Name: William Young, Age: 7\n",
      "Name: Jack Nelson, Age: 68\n"
     ]
    }
   ],
   "source": [
    "import random\n",
    "\n",
    "class Person:\n",
    "    def __init__(self, name, age):\n",
    "        self.name = name\n",
    "        self.age = age\n",
    "\n",
    "names = [\"Mirta\", \"Bob\", \"Charlie\", \"David\", \"Leandro\", \"Frank\", \"Grace\", \"Helen\", \"William\", \"Jack\", \n",
    "               \"Karen\", \"Emily\", \"Bruno\", \"Marcos\", \"Bernardo\", \"Paul\", \"Quincy\", \"Irineu\", \"Wagner\", \"Walter\"]\n",
    "\n",
    "surnames = [\"Smith\", \"Johnson\", \"Brown\", \"Taylor\", \"Lee\", \"Walker\", \"Harris\", \"Young\", \"King\", \"Wright\",\n",
    "            \"Adams\", \"da Silva\", \"Nelson\", \"Hill\", \"Carter\", \"Mitchell\", \"Perez\", \"Roberts\", \"Evans\", \"Green\"]\n",
    "\n",
    "db = [Person(f\"{random.choice(names)} {random.choice(surnames)}\", random.randint(1, 100)) for _ in range(50)]\n",
    "\n",
    "for person in db:\n",
    "    print(f\"Name: {person.name}, Age: {person.age}\")"
   ]
  },
  {
   "cell_type": "markdown",
   "id": "dfb42e51-f2c5-4d3e-8b6c-64ed22609f91",
   "metadata": {},
   "source": [
    "### 2. Frequency Tables\n",
    "\n",
    "- **Absolute Frequency (Fa)**:  \n",
    "  This is simply the count of each individual value in your dataset.\n",
    "  \n",
    "- **Relative Frequency (Fr)**:  \n",
    "  **Formula**:  \n",
    "  $$\n",
    "  Fr = \\frac{Fa}{n}\n",
    "  $$\n",
    "  **Where**:\n",
    "  - Fa - is the absolute frequency of a value.\n",
    "  - n - is the total number of data points."
   ]
  },
  {
   "cell_type": "code",
   "execution_count": 6,
   "id": "7d0e6669-cfe0-4815-a0e7-4d880af2219d",
   "metadata": {
    "scrolled": true
   },
   "outputs": [
    {
     "name": "stdout",
     "output_type": "stream",
     "text": [
      "Absolute Frequency: {18: 1, 12: 2, 27: 1, 62: 2, 29: 2, 19: 1, 3: 1, 60: 1, 25: 2, 88: 2, 81: 1, 43: 2, 31: 2, 9: 2, 83: 1, 77: 1, 20: 1, 48: 1, 32: 1, 35: 1, 50: 1, 76: 1, 28: 2, 94: 1, 92: 1, 96: 1, 51: 2, 26: 2, 33: 1, 58: 1, 70: 1, 41: 1, 44: 1, 64: 1, 54: 1, 69: 1, 37: 1, 7: 1, 68: 1}\n",
      "Relative Frequency: {18: 0.02, 12: 0.04, 27: 0.02, 62: 0.04, 29: 0.04, 19: 0.02, 3: 0.02, 60: 0.02, 25: 0.04, 88: 0.04, 81: 0.02, 43: 0.04, 31: 0.04, 9: 0.04, 83: 0.02, 77: 0.02, 20: 0.02, 48: 0.02, 32: 0.02, 35: 0.02, 50: 0.02, 76: 0.02, 28: 0.04, 94: 0.02, 92: 0.02, 96: 0.02, 51: 0.04, 26: 0.04, 33: 0.02, 58: 0.02, 70: 0.02, 41: 0.02, 44: 0.02, 64: 0.02, 54: 0.02, 69: 0.02, 37: 0.02, 7: 0.02, 68: 0.02}\n"
     ]
    }
   ],
   "source": [
    "data = [person.age for person in db]\n",
    "\n",
    "freq = {}\n",
    "for value in data:\n",
    "    if value in freq:\n",
    "        freq[value] += 1\n",
    "    else:\n",
    "        freq[value] = 1\n",
    "        \n",
    "n = len(data)\n",
    "\n",
    "rel_freq = {key: val / n for key, val in freq.items()}\n",
    "\n",
    "print(\"Absolute Frequency:\", freq)\n",
    "print(\"Relative Frequency:\", rel_freq)"
   ]
  },
  {
   "cell_type": "markdown",
   "id": "7cf6e9d3-0bb0-4a04-b0bd-c342e9bc3518",
   "metadata": {},
   "source": [
    "### 2. Class Intervals (Grouping)\n",
    "\n",
    "- **Class Width**:  \n",
    "  **Formula**:  \n",
    "  $$\n",
    "  \\text{class width} = \\frac{\\text{(max(data)} - \\text{min(data))}}{\\sqrt{n}}\n",
    "  $$\n",
    "  **Where**:\n",
    "  -  max(data) - is the maximum value in your dataset.\n",
    "  -  min(data) - is the minimum value in your dataset.\n",
    "  -  n - is the total number of data points."
   ]
  },
  {
   "cell_type": "code",
   "execution_count": 9,
   "id": "0358d25b-341b-44f6-95cd-7346ed76cb89",
   "metadata": {},
   "outputs": [
    {
     "name": "stdout",
     "output_type": "stream",
     "text": [
      "Class Width: ( 96 - 3 ) / 8\n",
      "Class Width: 11.625\n"
     ]
    }
   ],
   "source": [
    "import math\n",
    "\n",
    "min_data = min(data)\n",
    "max_data = max(data)\n",
    "\n",
    "def rounded_sqrt(num):\n",
    "    square_root = math.sqrt(num)\n",
    "    if square_root.is_integer():\n",
    "        return int(square_root) \n",
    "    else:\n",
    "        return math.ceil(square_root)  \n",
    "\n",
    "num_classes = rounded_sqrt(n)\n",
    "\n",
    "class_width = (max_data - min_data) / num_classes\n",
    "print(\"Class Width:\", \"(\", max_data, \"-\", min_data, \")\", \"/\", num_classes)\n",
    "print(\"Class Width:\", class_width)"
   ]
  },
  {
   "cell_type": "code",
   "execution_count": 17,
   "id": "a9d475ec-d414-43f4-87c0-2c9ee5a81281",
   "metadata": {},
   "outputs": [
    {
     "name": "stdout",
     "output_type": "stream",
     "text": [
      "8\n",
      "11.625\n",
      "lower_limit: 0.0, upper_limit: 0.0, absolute_frequency: 4\n",
      "lower_limit: 11.625, upper_limit: 11.625, absolute_frequency: 5\n",
      "lower_limit: 23.25, upper_limit: 23.25, absolute_frequency: 13\n",
      "lower_limit: 34.875, upper_limit: 34.875, absolute_frequency: 6\n",
      "lower_limit: 46.5, upper_limit: 46.5, absolute_frequency: 6\n",
      "lower_limit: 58.125, upper_limit: 58.125, absolute_frequency: 6\n",
      "lower_limit: 69.75, upper_limit: 69.75, absolute_frequency: 4\n",
      "lower_limit: 81.375, upper_limit: 81.375, absolute_frequency: 4\n"
     ]
    }
   ],
   "source": [
    "class Data_Class:\n",
    "    def __init__(self, lower_limit, upper_limit):\n",
    "        self.lower_limit = lower_limit\n",
    "        self.upper_limit = upper_limit\n",
    "        self.absolute_frequency = 0\n",
    "\n",
    "\n",
    "def create_data_classes(num_classes, class_width):\n",
    "    data_classes = []\n",
    "    for i in range(num_classes):\n",
    "        lower_limit = i * class_width\n",
    "        upper_limit = lower_limit + class_width\n",
    "        data_class = Data_Class(lower_limit, upper_limit)\n",
    "        data_classes.append(data_class)\n",
    "    return data_classes\n",
    "\n",
    "def increment_frequency(data_classes, data):\n",
    "    for number in data:\n",
    "        for data_class in data_classes:\n",
    "            if data_class.lower_limit <= number < data_class.upper_limit:\n",
    "                data_class.absolute_frequency += 1\n",
    "\n",
    "data_classes = create_data_classes(num_classes, class_width)\n",
    "increment_frequency(data_classes, data)\n",
    "\n",
    "print(num_classes)\n",
    "print(class_width)\n",
    "for dc in data_classes:\n",
    "    print(f\"lower_limit: {dc.lower_limit}, upper_limit: {dc.lower_limit}, absolute_frequency: {dc.absolute_frequency}\")"
   ]
  },
  {
   "cell_type": "markdown",
   "id": "61b96a3b-8726-436d-8df1-0966c7b568fb",
   "metadata": {},
   "source": [
    "### 3. Measures of Central Tendency"
   ]
  },
  {
   "cell_type": "markdown",
   "id": "5a9542e6-6398-46c9-b059-e16c92c94de4",
   "metadata": {},
   "source": [
    "- **Mean (Arithmetic Mean)**:  \n",
    "  **Formula**:  \n",
    "  $$\n",
    "  \\text{Mean} = \\frac{x_1 + x_2 + x_3 + \\dots + x_n}{n}\n",
    "  $$\n",
    "  **Where**:\n",
    "  - x1, x2, x3 - are the individual data points.\n",
    "  - n - is the total number of data points."
   ]
  },
  {
   "cell_type": "code",
   "execution_count": null,
   "id": "6d621406-e434-4df2-91c3-73cee7929dfb",
   "metadata": {},
   "outputs": [],
   "source": [
    "mean = sum(data) / n\n",
    "print(\"Mean:\", sum(data), \"/\", n)\n",
    "print(\"Mean:\", mean)"
   ]
  },
  {
   "cell_type": "markdown",
   "id": "194fb5a5-9314-4528-a815-315be7c98324",
   "metadata": {},
   "source": [
    "- **Weighted Mean**:  \n",
    "  **Formula**:  \n",
    "  $$\n",
    "  \\text{Weighted Mean} = \\frac{\\sum_{i=1}^{n} x_i \\cdot p_i}{\\sum_{i=1}^{n} p_i}\n",
    "  $$\n",
    "  Where:\n",
    "  - x_i - is each data point.\n",
    "  - p_i - is the weight associated with each data point."
   ]
  },
  {
   "cell_type": "code",
   "execution_count": null,
   "id": "dbdeff97-e25b-4e32-9e10-c283405e64e9",
   "metadata": {},
   "outputs": [],
   "source": [
    "weighted_mean = sum(data) / n\n",
    "print(\"Weighted Mean:\", sum(data), \"/\", n)\n",
    "print(\"Weighted Mean:\", mean)"
   ]
  },
  {
   "cell_type": "markdown",
   "id": "054bee77-7d91-4849-bf00-e7a975ae6c1d",
   "metadata": {},
   "source": [
    "- **Median**:  \n",
    "  **For Even Count**:  \n",
    "  $$\n",
    "  \\text{Median} = \\frac{\\text{sorted data}[n//2 - 1] + \\text{sorted data}[n//2]}{2}\n",
    "  $$  \n",
    "  **For Odd Count**:  \n",
    "  $$\n",
    "  \\text{Median} = \\text{sorted data}[n//2]\n",
    "  $$\n",
    "  Where:\n",
    "  - Sorted data is the dataset arranged in ascending order.\n",
    "  - n - is the total number of data points."
   ]
  },
  {
   "cell_type": "code",
   "execution_count": null,
   "id": "15ddb77f-e549-4c9a-adce-758c148b9001",
   "metadata": {},
   "outputs": [],
   "source": [
    "sorted_data = sorted(data)\n",
    "\n",
    "if n % 2 == 1:\n",
    "    median = sorted_data[n // 2]\n",
    "else:\n",
    "    median = (sorted_data[n // 2 - 1] + sorted_data[n // 2]) / 2\n",
    "\n",
    "print(\"Median:\", median)"
   ]
  },
  {
   "cell_type": "markdown",
   "id": "09a0c0da-ae74-4331-b127-7b0ef25bc54b",
   "metadata": {},
   "source": [
    "- **Mode**:  \n",
    "  The value that appears most frequently in the dataset."
   ]
  },
  {
   "cell_type": "code",
   "execution_count": null,
   "id": "f54a5591-ebb4-418a-a9cc-36a8c777cc93",
   "metadata": {},
   "outputs": [],
   "source": [
    "mode = max(freq, key=freq.get)\n",
    "print(\"Mode:\", mode)"
   ]
  },
  {
   "cell_type": "markdown",
   "id": "99381a31-c567-47a6-a87b-651b741965bd",
   "metadata": {},
   "source": [
    "### 5. Median for Grouped Data (Md)\n",
    "\n",
    "- **Formula**:  \n",
    "  $$\n",
    "  Md = L_{\\text{inf}} + \\frac{\\left(\\frac{n}{2} - F_{\\text{ac previous}}\\right)}{f_{\\text{i class}}} \\cdot \\text{class width}\n",
    "  $$\n",
    "\n",
    "  Where:\n",
    "  - \\( L_{\\text{inf}} \\) is the lower limit of the median class.\n",
    "  - \\( F_{\\text{ac previous}} \\) is the cumulative frequency up to the class before the median class.\n",
    "  - \\( f_{\\text{i class}} \\) is the absolute frequency of the median class.\n",
    "  - \\( \\text{class width} \\) is the width of the class interval.\n",
    "  - \\( n \\) is the total number of data points."
   ]
  },
  {
   "cell_type": "code",
   "execution_count": null,
   "id": "434a4b7e-493e-4835-919e-37c94c76bee2",
   "metadata": {},
   "outputs": [],
   "source": [
    "# 5. Median for Grouped Data (Md)\n",
    "\n",
    "# Grouped data (class intervals and frequencies)\n",
    "class_intervals = [(min_data + i * class_width, min_data + (i + 1) * class_width) for i in range(int((max_data - min_data) / class_width))]\n",
    "frequencies = [sum(1 for age in data if interval[0] <= age < interval[1]) for interval in class_intervals]\n",
    "\n",
    "# Calculate cumulative frequencies (manual calculation)\n",
    "cumulative_freq = []\n",
    "cumulative_sum = 0\n",
    "for f in frequencies:\n",
    "    cumulative_sum += f\n",
    "    cumulative_freq.append(cumulative_sum)\n",
    "\n",
    "# Median calculation (Md for grouped data)\n",
    "n = sum(frequencies)\n",
    "median_class_index = next(i for i, freq in enumerate(cumulative_freq) if cumulative_freq[i] >= n / 2)\n",
    "\n",
    "L_inf = class_intervals[median_class_index][0]\n",
    "F_ac_previous = cumulative_freq[median_class_index - 1] if median_class_index > 0 else 0\n",
    "f_class = frequencies[median_class_index]\n",
    "class_width = class_intervals[0][1] - class_intervals[0][0]  # Assuming equal width for all classes\n",
    "\n",
    "Md = L_inf + ((n / 2 - F_ac_previous) / f_class) * class_width\n",
    "print(\"Median for Grouped Data (Md):\", Md)\n"
   ]
  },
  {
   "cell_type": "markdown",
   "id": "ef197abe-ba7f-4a6f-8a1d-ffabe8b634f6",
   "metadata": {},
   "source": [
    "### 4. Measures of Dispersion"
   ]
  },
  {
   "cell_type": "markdown",
   "id": "ae33cd1b-e0bd-4f93-b500-f5a7f5cd644c",
   "metadata": {},
   "source": [
    "- **Variance (s²)**:  \n",
    "  **Formula**:  \n",
    "  $$\n",
    "  \\text{Variance} = \\frac{\\sum_{i=1}^{n} f_i \\cdot (x_i - \\text{mean})^2}{n}\n",
    "  $$\n",
    "  Where:\n",
    "  - f_i - is the frequency of the data point.\n",
    "  - x_i - is the data point.\n",
    "  - mean - is the mean of the dataset.\n",
    "  - n - is the total number of data points.\n",
    "- **Standard Deviation (s)**:  \n",
    "  **Formula**:  \n",
    "  $$\n",
    "  \\text{Standard Deviation} = \\sqrt{\\text{Variance}}\n",
    "  $$\n",
    "  It is simply the square root of the variance."
   ]
  },
  {
   "cell_type": "code",
   "execution_count": null,
   "id": "27378b7c-c9c2-4617-9831-4b064c29fd18",
   "metadata": {},
   "outputs": [],
   "source": [
    "# Variance and Standard Deviation (manual calculation)\n",
    "variance = sum((x - mean) ** 2 for x in data) / n\n",
    "std_dev = variance ** 0.5\n",
    "\n",
    "print(\"Variance:\", variance)\n",
    "print(\"Standard Deviation:\", std_dev)\n"
   ]
  },
  {
   "cell_type": "markdown",
   "id": "fa322455-77b0-4c1f-b495-d20613d07c19",
   "metadata": {},
   "source": [
    "- **Coefficient of Variation (CV)**:  \n",
    "  **Formula**:  \n",
    "  $$\n",
    "  CV = \\frac{\\text{Standard Deviation}}{\\text{Mean}} \\times 100\n",
    "  $$\n",
    "  This measures the relative dispersion in percentage terms."
   ]
  },
  {
   "cell_type": "code",
   "execution_count": null,
   "id": "4b5ab28c-d807-493e-9d54-9130d05ef10f",
   "metadata": {},
   "outputs": [],
   "source": [
    "# Coefficient of Variation (manual calculation)\n",
    "cv = (std_dev / mean) * 100\n",
    "print(\"Coefficient of Variation:\", cv)"
   ]
  }
 ],
 "metadata": {
  "kernelspec": {
   "display_name": "Python 3 (ipykernel)",
   "language": "python",
   "name": "python3"
  },
  "language_info": {
   "codemirror_mode": {
    "name": "ipython",
    "version": 3
   },
   "file_extension": ".py",
   "mimetype": "text/x-python",
   "name": "python",
   "nbconvert_exporter": "python",
   "pygments_lexer": "ipython3",
   "version": "3.12.6"
  }
 },
 "nbformat": 4,
 "nbformat_minor": 5
}
